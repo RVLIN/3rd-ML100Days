{
 "cells": [
  {
   "cell_type": "markdown",
   "metadata": {},
   "source": [
    "## [作業目標]\n",
    "了解機器學習適合應用的領域與範疇。"
   ]
  },
  {
   "cell_type": "markdown",
   "metadata": {},
   "source": [
    "## [作業重點]\n",
    "透過瞭解機器學習的運作方式，找出非常適用機器學習應用的領域及其原因"
   ]
  },
  {
   "cell_type": "markdown",
   "metadata": {},
   "source": [
    "## 作業\n",
    "請找出一個你認為機器學習可以發光發熱的領域並闡述原因? "
   ]
  },
  {
   "cell_type": "markdown",
   "metadata": {},
   "source": [
    "   健身領域\n",
    "   \n",
    "    目前市面上有針對健身者的姿勢與肌肉收縮進行偵測的設備，但每個人的身體肌肉數據都有些微差異，但肌肉數據有個大方向可以去看\n",
    "    比如說:\n",
    "        ．骨骼肌重\n",
    "        ．體脂率\n",
    "        ．身體是否失衡...等數據，\n",
    "    能夠將偵測設備姿勢的數據與人體肌肉數據進行對照，使用機器學習的方式，讓機器學習找出適合每個人身體運作的角度以及肌肉的收縮程度\n",
    "    讓健身者可以更加有效率且安全的健身，以達到提升運動效率的成果。"
   ]
  }
 ],
 "metadata": {
  "kernelspec": {
   "display_name": "Python 3",
   "language": "python",
   "name": "python3"
  },
  "language_info": {
   "codemirror_mode": {
    "name": "ipython",
    "version": 3
   },
   "file_extension": ".py",
   "mimetype": "text/x-python",
   "name": "python",
   "nbconvert_exporter": "python",
   "pygments_lexer": "ipython3",
   "version": "3.7.3"
  }
 },
 "nbformat": 4,
 "nbformat_minor": 2
}
