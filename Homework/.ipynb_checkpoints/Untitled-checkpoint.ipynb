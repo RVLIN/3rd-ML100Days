{
 "cells": [
  {
   "cell_type": "code",
   "execution_count": 5,
   "metadata": {},
   "outputs": [
    {
     "data": {
      "image/png": "[encoded data removed]",
      "text/plain": [
       "<Figure size 432x288 with 1 Axes>"
      ]
     },
     "metadata": {
      "needs_background": "light"
     },
     "output_type": "display_data"
    }
   ],
   "source": [
    "import numpy as np\n",
    "import matplotlib.pyplot as plt\n",
    "\n",
    "w = 3\n",
    "b = 0.5\n",
    "\n",
    "x_lin = np.linspace(0, 100, 101)\n",
    "\n",
    "\n",
    "y = (x_lin + np.random.randn(101) * 5) * w + b\n",
    "\n",
    "plt.plot(x_lin, y, 'b.', label = \"data points\")\n",
    "plt.title(\"Assume we have data points\")\n",
    "plt.legend(loc =2)\n",
    "plt.show()\n",
    "\n",
    "\n"
   ]
  },
  {
   "cell_type": "code",
   "execution_count": 8,
   "metadata": {},
   "outputs": [
    {
     "data": {
      "image/png": "[encoded data removed]",
      "text/plain": [
       "<Figure size 432x288 with 1 Axes>"
      ]
     },
     "metadata": {
      "needs_background": "light"
     },
     "output_type": "display_data"
    }
   ],
   "source": [
    "import numpy as np\n",
    "import matplotlib.pyplot as plt\n",
    "\n",
    "w = 3\n",
    "b = 0.5\n",
    "\n",
    "x_lin = np.linspace(0, 100, 101)\n",
    "\n",
    "y = (x_lin + np.random.randn(101) * 5) * w + b\n",
    "\n",
    "y_hat = x_lin * w + b\n",
    "\n",
    "plt.plot(x_lin, y, 'b.', label = \"data\")\n",
    "plt.plot(x_lin, y_hat, 'r-', label = \"prediction\")\n",
    "plt.title(\"Assume we have data points (And the prediction)\")\n",
    "plt.legend(loc =2)\n",
    "plt.show()\n"
   ]
  },
  {
   "cell_type": "code",
   "execution_count": 52,
   "metadata": {},
   "outputs": [
    {
     "name": "stdout",
     "output_type": "stream",
     "text": [
      "The Mean absolute error is 13.021\n",
      "The Mean squared error is 249.650\n"
     ]
    }
   ],
   "source": [
    "\"\"\"\n",
    "作業一\n",
    "\"\"\"\n",
    "\n",
    "import numpy as np\n",
    "import matplotlib.pyplot as plt\n",
    "import math\n",
    "\n",
    "def mean_absolute_error(y, yp):\n",
    "    mae = MAE = sum(abs(y - yp)) / len(y)\n",
    "    return mae\n",
    "\n",
    "def mean_squared_error(y, yp):\n",
    "    mse = MSE = sum((y - yp)**2) / len(y)\n",
    "    return mse\n",
    "\n",
    "w = 3\n",
    "b = 0.5\n",
    "\n",
    "x_lin = np.linspace(0, 100, 101)\n",
    "\n",
    "y = (x_lin + np.random.randn(101) * 5) * w + b\n",
    "\n",
    "y_hat = x_lin * w + b\n",
    "\n",
    "MAE = mean_absolute_error(y, y_hat)\n",
    "\n",
    "MSE = mean_squared_error(y, y_hat)\n",
    "\n",
    "print(\"The Mean absolute error is %.3f\" % (MAE))\n",
    "print(\"The Mean squared error is %.3f\" % (MSE))\n"
   ]
  },
  {
   "cell_type": "code",
   "execution_count": null,
   "metadata": {},
   "outputs": [],
   "source": [
    "\"\"\"\n",
    "作業二\n",
    "\"\"\"\n",
    "\n",
    "Topic:Titanic: Machine Learning from Disaster\n",
    "    1. 你選的這組資料為何重要\n",
    "        - 了解生還者與非生還者選擇的差異性，如艙等、是否有親友在船上等因素來思考與生還率的關係。\n",
    "        \n",
    "    2. 資料從何而來(tips:譬如提供者是誰、以甚麼方式蒐集)\n",
    "        - 當時發生意外後，蒐集的購票資料\n",
    "        \n",
    "    3. 蒐集而來的資料型態為何\n",
    "        - 這份資料是結構化資料，內容包括:年紀、艙等、上船地點、性別、是否有親友一起在船上等資訊\n",
    "            \n",
    "    4. 這組資料想解決的問題如何評估\n",
    "        -評估方式是根據人員資料來預測是否生還，並與實際狀況來對照的準確率來衡量選用方法是否可以預測到生還率。"
   ]
  },
  {
   "cell_type": "code",
   "execution_count": null,
   "metadata": {},
   "outputs": [],
   "source": [
    "\"\"\"\n",
    "作業三\n",
    "\"\"\"\n",
    "Topic:想像你經營一個自由載客車隊，\n",
    "      你希望能透過數據分析以提升業績，請你思考並描述你如何規劃整體的分析與解決方案：\n",
    "        1. 核心問題為何 (tips：如何定義 「提升業績 & 你的假設」)\n",
    "            -提升業績:假設我的車隊主要是依靠網路以及電話接單的形式而非路邊招客\n",
    "                -提升業績的標準:接單量的多寡決定業績的上升與下降\n",
    "                \n",
    "        2. 資料從何而來 (tips：哪些資料可能會對你想問的問題產生影響 & 資料如何蒐集)\n",
    "            -電話接單量\n",
    "            -網路接單量\n",
    "            -搭乘後評分\n",
    "            -接單前客人需求\n",
    "            -隨機客人問卷\n",
    "            -自行對車隊內的車子對於細節進行五等第評分\n",
    "            -回客率\n",
    "            -上車地點\n",
    "            -下車地點\n",
    "            \n",
    "        3. 蒐集而來的資料型態為何\n",
    "            -結構化資料，其內容包含:回客率、網路/電話接單量、客人評分、上車地點、下車地點、車子評級等\n",
    "        \n",
    "        4. 你要回答的問題，其如何評估 (tips：你的假設如何驗證)\n",
    "            -假設回客率高、並且對其指定的車子與我們的車子評級呈現正相關，那車子的狀況維持以及車輛的選擇將成為車隊重點\n",
    "            -假設上車地點集中，那指示車隊的車輛對於\n",
    "        "
   ]
  }
 ],
 "metadata": {
  "kernelspec": {
   "display_name": "Python 3",
   "language": "python",
   "name": "python3"
  },
  "language_info": {
   "codemirror_mode": {
    "name": "ipython",
    "version": 3
   },
   "file_extension": ".py",
   "mimetype": "text/x-python",
   "name": "python",
   "nbconvert_exporter": "python",
   "pygments_lexer": "ipython3",
   "version": "3.7.3"
  }
 },
 "nbformat": 4,
 "nbformat_minor": 2
}
